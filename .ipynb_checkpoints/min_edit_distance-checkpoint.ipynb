{
 "cells": [
  {
   "cell_type": "code",
   "execution_count": 1,
   "id": "7ccaa35a",
   "metadata": {},
   "outputs": [],
   "source": [
    "def med_function(word1, word2): \n",
    "\n",
    "    rows = len(word1)+1 \n",
    "    cols = len(word2)+1\n",
    "\n",
    "    distance = [\n",
    "        [0 for x in range(cols)] \n",
    "        for x in range(rows)]\n",
    "\n",
    "    for i in range(1, rows):\n",
    "        distance[i][0] = i\n",
    "\n",
    "    for j in range(1, cols):\n",
    "        distance[0][j] = j\n",
    "        \n",
    "    for col in range(1, cols):\n",
    "        for row in range(1, rows):\n",
    "            if word1[row-1] == word2[col-1]:\n",
    "                cost = 0\n",
    "            else:\n",
    "                cost = 1\n",
    "            distance[row][col] = min(distance[row-1][col] + 1,      \n",
    "                                     distance[row][col-1] + 1,    \n",
    "                                     distance[row-1][col-1] + cost)\n",
    "    \n",
    "    print(\"The MED matrix between \" + word1 + \" and \" + word2 + \" is: \")\n",
    "    \n",
    "    for r in range(rows):\n",
    "        print(distance[r])\n",
    "    \n",
    "    print()\n",
    "    print(\"The MED between \" + word1 + \" and \" + word2 + \" is: \", )\n",
    "    \n",
    "    return distance[row][col]"
   ]
  }
 ],
 "metadata": {
  "kernelspec": {
   "display_name": "Python 3 (ipykernel)",
   "language": "python",
   "name": "python3"
  },
  "language_info": {
   "codemirror_mode": {
    "name": "ipython",
    "version": 3
   },
   "file_extension": ".py",
   "mimetype": "text/x-python",
   "name": "python",
   "nbconvert_exporter": "python",
   "pygments_lexer": "ipython3",
   "version": "3.9.13"
  }
 },
 "nbformat": 4,
 "nbformat_minor": 5
}
