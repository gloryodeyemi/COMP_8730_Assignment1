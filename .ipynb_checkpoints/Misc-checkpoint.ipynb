{
 "cells": [
  {
   "cell_type": "code",
   "execution_count": 21,
   "id": "4b3d6d9d",
   "metadata": {},
   "outputs": [
    {
     "ename": "SyntaxError",
     "evalue": "invalid syntax (759008646.py, line 1)",
     "output_type": "error",
     "traceback": [
      "\u001b[0;36m  File \u001b[0;32m\"/var/folders/ly/rf87jvlx4d93p4zbd_bs4l5c0000gn/T/ipykernel_10487/759008646.py\"\u001b[0;36m, line \u001b[0;32m1\u001b[0m\n\u001b[0;31m    pip install PyDictionary\u001b[0m\n\u001b[0m        ^\u001b[0m\n\u001b[0;31mSyntaxError\u001b[0m\u001b[0;31m:\u001b[0m invalid syntax\n"
     ]
    }
   ],
   "source": [
    "pip install PyDictionary\n",
    "pip install pytrec-eval-terrier"
   ]
  },
  {
   "cell_type": "code",
   "execution_count": 2,
   "id": "b41a4e26",
   "metadata": {},
   "outputs": [],
   "source": [
    "from PyDictionary import PyDictionary\n",
    "dictionary=PyDictionary()"
   ]
  },
  {
   "cell_type": "code",
   "execution_count": 3,
   "id": "f87d720a",
   "metadata": {},
   "outputs": [
    {
     "name": "stdout",
     "output_type": "stream",
     "text": [
      "{'Noun': ['a state of high honor', 'brilliant radiant beauty', 'an indication of radiant light drawn around the head of a saint'], 'Verb': ['rejoice proudly']}\n"
     ]
    }
   ],
   "source": [
    "print(dictionary.meaning(\"Glory\"))"
   ]
  },
  {
   "cell_type": "code",
   "execution_count": null,
   "id": "2651b777",
   "metadata": {},
   "outputs": [],
   "source": [
    "print(dictionary.translate(\"Glory\", \"fr\"))"
   ]
  },
  {
   "cell_type": "code",
   "execution_count": 20,
   "id": "1d1895ae",
   "metadata": {},
   "outputs": [
    {
     "name": "stdout",
     "output_type": "stream",
     "text": [
      "Requirement already satisfied: nltk in /Users/new/opt/anaconda3/lib/python3.9/site-packages (3.7)\n",
      "Requirement already satisfied: click in /Users/new/opt/anaconda3/lib/python3.9/site-packages (from nltk) (8.0.4)\n",
      "Requirement already satisfied: regex>=2021.8.3 in /Users/new/opt/anaconda3/lib/python3.9/site-packages (from nltk) (2022.7.9)\n",
      "Requirement already satisfied: tqdm in /Users/new/opt/anaconda3/lib/python3.9/site-packages (from nltk) (4.64.1)\n",
      "Requirement already satisfied: joblib in /Users/new/opt/anaconda3/lib/python3.9/site-packages (from nltk) (1.1.0)\n",
      "Note: you may need to restart the kernel to use updated packages.\n"
     ]
    }
   ],
   "source": [
    "pip install nltk"
   ]
  },
  {
   "cell_type": "code",
   "execution_count": 2,
   "id": "4e96965a",
   "metadata": {},
   "outputs": [],
   "source": [
    "import nltk"
   ]
  },
  {
   "cell_type": "code",
   "execution_count": 3,
   "id": "967b8ba2",
   "metadata": {},
   "outputs": [
    {
     "name": "stderr",
     "output_type": "stream",
     "text": [
      "[nltk_data] Downloading package wordnet to /Users/new/nltk_data...\n"
     ]
    },
    {
     "data": {
      "text/plain": [
       "True"
      ]
     },
     "execution_count": 3,
     "metadata": {},
     "output_type": "execute_result"
    }
   ],
   "source": [
    "nltk.download('wordnet')"
   ]
  },
  {
   "cell_type": "code",
   "execution_count": 6,
   "id": "f21b4421",
   "metadata": {},
   "outputs": [
    {
     "name": "stderr",
     "output_type": "stream",
     "text": [
      "[nltk_data] Downloading package omw-1.4 to /Users/new/nltk_data...\n"
     ]
    },
    {
     "data": {
      "text/plain": [
       "True"
      ]
     },
     "execution_count": 6,
     "metadata": {},
     "output_type": "execute_result"
    }
   ],
   "source": [
    "nltk.download('omw-1.4')"
   ]
  },
  {
   "cell_type": "code",
   "execution_count": 7,
   "id": "c2ae1d5b",
   "metadata": {},
   "outputs": [],
   "source": [
    "from nltk.corpus import wordnet as wn"
   ]
  },
  {
   "cell_type": "code",
   "execution_count": 14,
   "id": "6a9fdf36",
   "metadata": {},
   "outputs": [
    {
     "name": "stdout",
     "output_type": "stream",
     "text": [
      "147306\n"
     ]
    }
   ],
   "source": [
    "count = 0\n",
    "for _ in wn.words():\n",
    "    count += 1\n",
    "    \n",
    "print(count)"
   ]
  },
  {
   "cell_type": "code",
   "execution_count": 18,
   "id": "fb7a0384",
   "metadata": {},
   "outputs": [
    {
     "data": {
      "text/plain": [
       "147306"
      ]
     },
     "execution_count": 18,
     "metadata": {},
     "output_type": "execute_result"
    }
   ],
   "source": [
    "len(list(wn.words()))"
   ]
  },
  {
   "cell_type": "code",
   "execution_count": null,
   "id": "85b8f580",
   "metadata": {},
   "outputs": [],
   "source": [
    "import pandas as pd\n",
    "import numpy as np\n",
    "import re"
   ]
  },
  {
   "cell_type": "code",
   "execution_count": null,
   "id": "07ce6f39",
   "metadata": {},
   "outputs": [],
   "source": [
    "data1 = open('Data/FAWTHROP1DAT.643').read()\n",
    "data1"
   ]
  },
  {
   "cell_type": "code",
   "execution_count": null,
   "id": "f0631316",
   "metadata": {},
   "outputs": [],
   "source": [
    "data1 = re.sub(' +', ' ', data1)\n",
    "data1.head"
   ]
  },
  {
   "cell_type": "code",
   "execution_count": null,
   "id": "2c516195",
   "metadata": {},
   "outputs": [],
   "source": [
    "lines = []\n",
    "with open('Data/FAWTHROP1DAT.643', 'r') as file_data:\n",
    "#     file_data = re.sub(' +', ' ', file_data)\n",
    "    for line in file_data:\n",
    "        data = line.split()\n",
    "        print(data)\n",
    "        lines.append(data)"
   ]
  },
  {
   "cell_type": "code",
   "execution_count": 78,
   "id": "d3544d01",
   "metadata": {},
   "outputs": [],
   "source": [
    "import numpy as np\n",
    "\n",
    "\n",
    "def levenshtein(token1, token2, print_: bool = False):\n",
    "    distances = np.zeros((len(token1) + 1, len(token2) + 1))\n",
    "    for t1 in range(len(token1) + 1):\n",
    "        distances[t1][0] = t1\n",
    "    for t2 in range(len(token2) + 1):\n",
    "        distances[0][t2] = t2\n",
    "\n",
    "    for t1 in range(1, len(token1) + 1):\n",
    "        for t2 in range(1, len(token2) + 1):\n",
    "            a = distances[t1][t2 - 1]\n",
    "            b = distances[t1 - 1][t2]\n",
    "            c = distances[t1 - 1][t2 - 1]\n",
    "\n",
    "            if a <= b and a <= c:\n",
    "                distances[t1][t2] = a + 1\n",
    "            elif b <= a and b <= c:\n",
    "                distances[t1][t2] = b + 1\n",
    "            else:\n",
    "                if token1[t1 - 1] == token2[t2 - 1]:\n",
    "                    distances[t1][t2] = c\n",
    "                else:\n",
    "                    distances[t1][t2] = c + 2\n",
    "\n",
    "    if print_:\n",
    "        print(f'distance matrix b/w : {token1} and {token2}')\n",
    "        print_matrix(distances, len(token1), len(token2))\n",
    "        print('\\n')\n",
    "    return int(distances[len(token1)][len(token2)])\n",
    "\n",
    "\n",
    "def print_matrix(distances, token1Length, token2Length):\n",
    "    for t1 in range(token1Length + 1):\n",
    "        for t2 in range(token2Length + 1):\n",
    "            print(int(distances[t1][t2]), end=\" \")\n",
    "        print()"
   ]
  },
  {
   "cell_type": "code",
   "execution_count": 79,
   "id": "68c6fd6d",
   "metadata": {},
   "outputs": [
    {
     "name": "stdout",
     "output_type": "stream",
     "text": [
      "distance matrix b/w : Saturday and Sunday\n",
      "0 1 2 3 4 5 6 \n",
      "1 0 1 2 3 4 5 \n",
      "2 1 2 3 4 3 4 \n",
      "3 2 3 4 5 4 5 \n",
      "4 3 2 3 4 5 6 \n",
      "5 4 3 4 5 6 7 \n",
      "6 5 4 5 4 5 6 \n",
      "7 6 5 6 5 4 5 \n",
      "8 7 6 7 6 5 4 \n",
      "\n",
      "\n"
     ]
    },
    {
     "data": {
      "text/plain": [
       "4"
      ]
     },
     "execution_count": 79,
     "metadata": {},
     "output_type": "execute_result"
    }
   ],
   "source": [
    "levenshtein(\"Saturday\", \"Sunday\", True)"
   ]
  },
  {
   "cell_type": "code",
   "execution_count": 25,
   "id": "1adf7d3b",
   "metadata": {},
   "outputs": [
    {
     "name": "stdout",
     "output_type": "stream",
     "text": [
      "No. of Operations required : 1\n",
      "No. of Operations required : 3\n"
     ]
    }
   ],
   "source": [
    "def edit_distance(str1, str2, a, b):\n",
    "    string_matrix = [[0 for i in range(b+1)] for i in range(a+1)]\n",
    "\n",
    "    for i in range(a+1):\n",
    "        for j in range(b+1):\n",
    "\n",
    "            if i == 0:\n",
    "                string_matrix[i][j] = j   # If first string is empty, insert all characters of second string into first.\n",
    "\n",
    "            elif j == 0:\n",
    "                string_matrix[i][j] = i   # If second string is empty, remove all characters of first string.\n",
    "\n",
    "            elif str1[i-1] == str2[j-1]:\n",
    "                string_matrix[i][j] = string_matrix[i-1][j-1]  # If last characters of two strings are same, nothing much to do. Ignore the last two characters and get the count of remaining strings.\n",
    "\n",
    "            else:\n",
    "                string_matrix[i][j] = 1 + min(string_matrix[i][j-1],      # insert operation\n",
    "                                       string_matrix[i-1][j],      # remove operation\n",
    "                                       string_matrix[i-1][j-1])    # replace operation\n",
    "\n",
    "    return string_matrix[a][b]\n",
    "\n",
    "\n",
    "if __name__ == '__main__':\n",
    "    str1 = 'Cats'\n",
    "    str2 = 'Rats'\n",
    "\n",
    "    print('No. of Operations required :',edit_distance(str1, str2, len(str1), len(str2)))\n",
    "    \n",
    "\n",
    "    str3 = 'Saturday'\n",
    "    str4 = 'Sunday'\n",
    "    print('No. of Operations required :',edit_distance(str3, str4, len(str3), len(str4)))"
   ]
  },
  {
   "cell_type": "code",
   "execution_count": 27,
   "id": "10fe497b",
   "metadata": {},
   "outputs": [],
   "source": [
    "# Christopher P. Matthews\n",
    "# christophermatthews1985@gmail.com\n",
    "# Sacramento, CA, USA\n",
    "\n",
    "def levenshtein(s, t):\n",
    "        ''' From Wikipedia article; Iterative with two matrix rows. '''\n",
    "        if s == t: return 0\n",
    "        elif len(s) == 0: return len(t)\n",
    "        elif len(t) == 0: return len(s)\n",
    "        v0 = [None] * (len(t) + 1)\n",
    "        v1 = [None] * (len(t) + 1)\n",
    "        for i in range(len(v0)):\n",
    "            v0[i] = i\n",
    "        for i in range(len(s)):\n",
    "            v1[0] = i + 1\n",
    "            for j in range(len(t)):\n",
    "                cost = 0 if s[i] == t[j] else 1\n",
    "                v1[j + 1] = min(v1[j] + 1, v0[j + 1] + 1, v0[j] + cost)\n",
    "            for j in range(len(v0)):\n",
    "                v0[j] = v1[j]\n",
    "                \n",
    "        return v1[len(t)]"
   ]
  },
  {
   "cell_type": "code",
   "execution_count": 28,
   "id": "cb6a093f",
   "metadata": {},
   "outputs": [
    {
     "data": {
      "text/plain": [
       "3"
      ]
     },
     "execution_count": 28,
     "metadata": {},
     "output_type": "execute_result"
    }
   ],
   "source": [
    "levenshtein(\"Saturday\", \"Sunday\")"
   ]
  },
  {
   "cell_type": "code",
   "execution_count": 29,
   "id": "c77ddbd2",
   "metadata": {},
   "outputs": [],
   "source": [
    "def levenshtein(s1, s2):\n",
    "    if len(s1) < len(s2):\n",
    "        return levenshtein(s2, s1)\n",
    "\n",
    "    # len(s1) >= len(s2)\n",
    "    if len(s2) == 0:\n",
    "        return len(s1)\n",
    "\n",
    "    previous_row = range(len(s2) + 1)\n",
    "    for i, c1 in enumerate(s1):\n",
    "        current_row = [i + 1]\n",
    "        for j, c2 in enumerate(s2):\n",
    "            insertions = previous_row[j + 1] + 1 # j+1 instead of j since previous_row and current_row are one character longer\n",
    "            deletions = current_row[j] + 1       # than s2\n",
    "            substitutions = previous_row[j] + (c1 != c2)\n",
    "            current_row.append(min(insertions, deletions, substitutions))\n",
    "        previous_row = current_row\n",
    "    \n",
    "    return previous_row[-1]"
   ]
  },
  {
   "cell_type": "code",
   "execution_count": 30,
   "id": "59c39fe8",
   "metadata": {},
   "outputs": [
    {
     "data": {
      "text/plain": [
       "3"
      ]
     },
     "execution_count": 30,
     "metadata": {},
     "output_type": "execute_result"
    }
   ],
   "source": [
    "levenshtein(\"Saturday\", \"Sunday\")"
   ]
  },
  {
   "cell_type": "code",
   "execution_count": 31,
   "id": "65f455f7",
   "metadata": {},
   "outputs": [
    {
     "name": "stdout",
     "output_type": "stream",
     "text": [
      "3\n"
     ]
    }
   ],
   "source": [
    "# A Dynamic Programming based Python program for edit\n",
    "# distance problem\n",
    "\n",
    "\n",
    "def editDistDP(str1, str2, m, n):\n",
    "\t# Create a table to store results of subproblems\n",
    "\tdp = [[0 for x in range(n + 1)] for x in range(m + 1)]\n",
    "\n",
    "\t# Fill d[][] in bottom up manner\n",
    "\tfor i in range(m + 1):\n",
    "\t\tfor j in range(n + 1):\n",
    "\n",
    "\t\t\t# If first string is empty, only option is to\n",
    "\t\t\t# insert all characters of second string\n",
    "\t\t\tif i == 0:\n",
    "\t\t\t\tdp[i][j] = j # Min. operations = j\n",
    "\n",
    "\t\t\t# If second string is empty, only option is to\n",
    "\t\t\t# remove all characters of second string\n",
    "\t\t\telif j == 0:\n",
    "\t\t\t\tdp[i][j] = i # Min. operations = i\n",
    "\n",
    "\t\t\t# If last characters are same, ignore last char\n",
    "\t\t\t# and recur for remaining string\n",
    "\t\t\telif str1[i-1] == str2[j-1]:\n",
    "\t\t\t\tdp[i][j] = dp[i-1][j-1]\n",
    "\n",
    "\t\t\t# If last character are different, consider all\n",
    "\t\t\t# possibilities and find minimum\n",
    "\t\t\telse:\n",
    "\t\t\t\tdp[i][j] = 1 + min(dp[i][j-1],\t # Insert\n",
    "\t\t\t\t\t\t\t\tdp[i-1][j],\t # Remove\n",
    "\t\t\t\t\t\t\t\tdp[i-1][j-1]) # Replace\n",
    "\n",
    "\treturn dp[m][n]\n",
    "\n",
    "\n",
    "# Driver code\n",
    "str1 = \"sunday\"\n",
    "str2 = \"saturday\"\n",
    "\n",
    "print(editDistDP(str1, str2, len(str1), len(str2)))\n",
    "# This code is contributed by Bhavya Jain\n"
   ]
  },
  {
   "cell_type": "code",
   "execution_count": 32,
   "id": "728f70de",
   "metadata": {},
   "outputs": [],
   "source": [
    "def levenshteinDistance(s1, s2):\n",
    "    if len(s1) > len(s2):\n",
    "        s1, s2 = s2, s1\n",
    "\n",
    "    distances = range(len(s1) + 1)\n",
    "    for i2, c2 in enumerate(s2):\n",
    "        distances_ = [i2+1]\n",
    "        for i1, c1 in enumerate(s1):\n",
    "            if c1 == c2:\n",
    "                distances_.append(distances[i1])\n",
    "            else:\n",
    "                distances_.append(1 + min((distances[i1], distances[i1 + 1], distances_[-1])))\n",
    "        distances = distances_\n",
    "    return distances[-1]"
   ]
  },
  {
   "cell_type": "code",
   "execution_count": 33,
   "id": "93be6fc2",
   "metadata": {},
   "outputs": [
    {
     "data": {
      "text/plain": [
       "3"
      ]
     },
     "execution_count": 33,
     "metadata": {},
     "output_type": "execute_result"
    }
   ],
   "source": [
    "levenshteinDistance(\"Saturday\", \"Sunday\")"
   ]
  },
  {
   "cell_type": "code",
   "execution_count": 34,
   "id": "9c434310",
   "metadata": {},
   "outputs": [
    {
     "name": "stdout",
     "output_type": "stream",
     "text": [
      "Collecting Levenshtein\n",
      "  Downloading Levenshtein-0.20.9-cp39-cp39-macosx_10_9_x86_64.whl (131 kB)\n",
      "\u001b[2K     \u001b[90m━━━━━━━━━━━━━━━━━━━━━━━━━━━━━━━━━━━━━━━\u001b[0m \u001b[32m131.4/131.4 kB\u001b[0m \u001b[31m2.5 MB/s\u001b[0m eta \u001b[36m0:00:00\u001b[0ma \u001b[36m0:00:01\u001b[0m\n",
      "\u001b[?25hCollecting rapidfuzz<3.0.0,>=2.3.0\n",
      "  Downloading rapidfuzz-2.13.7-cp39-cp39-macosx_10_9_x86_64.whl (1.8 MB)\n",
      "\u001b[2K     \u001b[90m━━━━━━━━━━━━━━━━━━━━━━━━━━━━━━━━━━━━━━━━\u001b[0m \u001b[32m1.8/1.8 MB\u001b[0m \u001b[31m19.2 MB/s\u001b[0m eta \u001b[36m0:00:00\u001b[0ma \u001b[36m0:00:01\u001b[0m\n",
      "\u001b[?25hInstalling collected packages: rapidfuzz, Levenshtein\n",
      "Successfully installed Levenshtein-0.20.9 rapidfuzz-2.13.7\n",
      "Note: you may need to restart the kernel to use updated packages.\n"
     ]
    }
   ],
   "source": [
    "pip install Levenshtein"
   ]
  },
  {
   "cell_type": "code",
   "execution_count": 35,
   "id": "e0961955",
   "metadata": {},
   "outputs": [],
   "source": [
    "from Levenshtein import distance"
   ]
  },
  {
   "cell_type": "code",
   "execution_count": 36,
   "id": "66a3dbfa",
   "metadata": {},
   "outputs": [
    {
     "data": {
      "text/plain": [
       "3"
      ]
     },
     "execution_count": 36,
     "metadata": {},
     "output_type": "execute_result"
    }
   ],
   "source": [
    "distance(\"Saturday\", \"Sunday\")"
   ]
  },
  {
   "cell_type": "code",
   "execution_count": 39,
   "id": "e78db0fc",
   "metadata": {},
   "outputs": [
    {
     "name": "stdout",
     "output_type": "stream",
     "text": [
      "[0, 1, 2, 3, 4]\n",
      "[1, 1, 2, 3, 4]\n",
      "[2, 1, 2, 3, 4]\n",
      "[3, 2, 1, 2, 3]\n",
      "[4, 3, 2, 1, 2]\n",
      "2\n"
     ]
    }
   ],
   "source": [
    "def iterative_levenshtein(s, t):\n",
    "    \"\"\" \n",
    "        iterative_levenshtein(s, t) -> ldist\n",
    "        ldist is the Levenshtein distance between the strings \n",
    "        s and t.\n",
    "        For all i and j, dist[i,j] will contain the Levenshtein \n",
    "        distance between the first i characters of s and the \n",
    "        first j characters of t\n",
    "    \"\"\"\n",
    "\n",
    "    rows = len(s)+1\n",
    "    cols = len(t)+1\n",
    "    dist = [[0 for x in range(cols)] for x in range(rows)]\n",
    "\n",
    "    # source prefixes can be transformed into empty strings \n",
    "    # by deletions:\n",
    "    for i in range(1, rows):\n",
    "        dist[i][0] = i\n",
    "\n",
    "    # target prefixes can be created from an empty source string\n",
    "    # by inserting the characters\n",
    "    for i in range(1, cols):\n",
    "        dist[0][i] = i\n",
    "        \n",
    "    for col in range(1, cols):\n",
    "        for row in range(1, rows):\n",
    "            if s[row-1] == t[col-1]:\n",
    "                cost = 0\n",
    "            else:\n",
    "                cost = 1\n",
    "            dist[row][col] = min(dist[row-1][col] + 1,      # deletion\n",
    "                                 dist[row][col-1] + 1,      # insertion\n",
    "                                 dist[row-1][col-1] + cost) # substitution\n",
    "\n",
    "    for r in range(rows):\n",
    "        print(dist[r])\n",
    "    \n",
    " \n",
    "    return dist[row][col]\n",
    "\n",
    "print(iterative_levenshtein(\"flaw\", \"lawn\"))"
   ]
  },
  {
   "cell_type": "code",
   "execution_count": 83,
   "id": "5b3dc182",
   "metadata": {},
   "outputs": [],
   "source": [
    "def medFunction(word1, word2): \n",
    "\n",
    "    rows = len(word1)+1 \n",
    "    cols = len(word2)+1\n",
    "\n",
    "    distance = [\n",
    "        [0 for x in range(cols)] \n",
    "        for x in range(rows)]\n",
    "\n",
    "    for i in range(1, rows):\n",
    "        distance[i][0] = i\n",
    "\n",
    "    for j in range(1, cols):\n",
    "        distance[0][j] = j\n",
    "        \n",
    "    for col in range(1, cols):\n",
    "        for row in range(1, rows):\n",
    "            if word1[row-1] == word2[col-1]:\n",
    "                cost = 0\n",
    "            else:\n",
    "                cost = 1\n",
    "            distance[row][col] = min(distance[row-1][col] + 1,      \n",
    "                                 distance[row][col-1] + 1,    \n",
    "                                 distance[row-1][col-1] + cost)\n",
    "    \n",
    "    print(\"The MED matrix between \"+ word1 +\" and \" + word2 + \" is: \")\n",
    "    \n",
    "    for r in range(rows):\n",
    "        print(distance[r])\n",
    "    \n",
    "    print()\n",
    "    print(\"The MED between \" + word1 +\" and \" + word2 + \" is: \", )\n",
    "    \n",
    "    return distance[row][col]"
   ]
  },
  {
   "cell_type": "code",
   "execution_count": 86,
   "id": "15780efc",
   "metadata": {},
   "outputs": [
    {
     "name": "stdout",
     "output_type": "stream",
     "text": [
      "The MED matrix between ABATTOIR and ABBATOIR is: \n",
      "[0, 1, 2, 3, 4, 5, 6, 7, 8]\n",
      "[1, 0, 1, 2, 3, 4, 5, 6, 7]\n",
      "[2, 1, 0, 1, 2, 3, 4, 5, 6]\n",
      "[3, 2, 1, 1, 1, 2, 3, 4, 5]\n",
      "[4, 3, 2, 2, 2, 1, 2, 3, 4]\n",
      "[5, 4, 3, 3, 3, 2, 2, 3, 4]\n",
      "[6, 5, 4, 4, 4, 3, 2, 3, 4]\n",
      "[7, 6, 5, 5, 5, 4, 3, 2, 3]\n",
      "[8, 7, 6, 6, 6, 5, 4, 3, 2]\n",
      "\n",
      "The MED between ABATTOIR and ABBATOIR is: \n",
      "2\n"
     ]
    }
   ],
   "source": [
    "print(medFunction(\"ABATTOIR\", \"ABBATOIR\"))"
   ]
  },
  {
   "cell_type": "code",
   "execution_count": null,
   "id": "01fe7292",
   "metadata": {},
   "outputs": [],
   "source": []
  }
 ],
 "metadata": {
  "kernelspec": {
   "display_name": "Python 3 (ipykernel)",
   "language": "python",
   "name": "python3"
  },
  "language_info": {
   "codemirror_mode": {
    "name": "ipython",
    "version": 3
   },
   "file_extension": ".py",
   "mimetype": "text/x-python",
   "name": "python",
   "nbconvert_exporter": "python",
   "pygments_lexer": "ipython3",
   "version": "3.9.13"
  }
 },
 "nbformat": 4,
 "nbformat_minor": 5
}
