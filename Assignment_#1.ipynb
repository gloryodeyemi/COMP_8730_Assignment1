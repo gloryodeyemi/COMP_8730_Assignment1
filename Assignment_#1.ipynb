{
 "cells": [
  {
   "cell_type": "code",
   "execution_count": 1,
   "id": "4b3d6d9d",
   "metadata": {},
   "outputs": [
    {
     "name": "stdout",
     "output_type": "stream",
     "text": [
      "Requirement already satisfied: pytrec-eval-terrier in /Users/new/opt/anaconda3/lib/python3.9/site-packages (0.5.5)\n",
      "Requirement already satisfied: nltk in /Users/new/opt/anaconda3/lib/python3.9/site-packages (3.7)\n",
      "Requirement already satisfied: tqdm in /Users/new/opt/anaconda3/lib/python3.9/site-packages (from nltk) (4.64.1)\n",
      "Requirement already satisfied: joblib in /Users/new/opt/anaconda3/lib/python3.9/site-packages (from nltk) (1.1.0)\n",
      "Requirement already satisfied: regex>=2021.8.3 in /Users/new/opt/anaconda3/lib/python3.9/site-packages (from nltk) (2022.7.9)\n",
      "Requirement already satisfied: click in /Users/new/opt/anaconda3/lib/python3.9/site-packages (from nltk) (8.0.4)\n"
     ]
    }
   ],
   "source": [
    "!pip install pytrec-eval-terrier\n",
    "!pip install nltk"
   ]
  },
  {
   "cell_type": "code",
   "execution_count": 2,
   "id": "99b20af3",
   "metadata": {},
   "outputs": [],
   "source": [
    "import nltk"
   ]
  },
  {
   "cell_type": "code",
   "execution_count": 3,
   "id": "642bd45c",
   "metadata": {},
   "outputs": [
    {
     "name": "stderr",
     "output_type": "stream",
     "text": [
      "[nltk_data] Downloading package wordnet to /Users/new/nltk_data...\n",
      "[nltk_data]   Package wordnet is already up-to-date!\n",
      "[nltk_data] Downloading package omw-1.4 to /Users/new/nltk_data...\n",
      "[nltk_data]   Package omw-1.4 is already up-to-date!\n"
     ]
    },
    {
     "data": {
      "text/plain": [
       "True"
      ]
     },
     "execution_count": 3,
     "metadata": {},
     "output_type": "execute_result"
    }
   ],
   "source": [
    "nltk.download('wordnet')\n",
    "nltk.download('omw-1.4')"
   ]
  },
  {
   "cell_type": "code",
   "execution_count": 4,
   "id": "1c533592",
   "metadata": {},
   "outputs": [],
   "source": [
    "from nltk.corpus import wordnet as wn"
   ]
  },
  {
   "cell_type": "code",
   "execution_count": 5,
   "id": "eab7b9f7",
   "metadata": {},
   "outputs": [
    {
     "name": "stdout",
     "output_type": "stream",
     "text": [
      "Total number of words in Wordnet =  147306\n"
     ]
    }
   ],
   "source": [
    "print(\"Total number of words in Wordnet = \", len(list(wn.words())))"
   ]
  },
  {
   "cell_type": "code",
   "execution_count": 6,
   "id": "1b45d31d",
   "metadata": {},
   "outputs": [],
   "source": [
    "birkbeck_data = []\n",
    "with open('Data/FAWTHROP1DAT.643', 'r') as file_data1:\n",
    "    for line in file_data1:\n",
    "        data = line.split()\n",
    "#         print(data)\n",
    "        birkbeck_data.append(data)\n",
    "    \n",
    "with open('Data/SHEFFIELDDAT.643', 'r') as file_data2:\n",
    "    for line in file_data2:\n",
    "        data = line.split()\n",
    "#         print(data)\n",
    "        birkbeck_data.append(data)"
   ]
  },
  {
   "cell_type": "code",
   "execution_count": 7,
   "id": "eaa67528",
   "metadata": {},
   "outputs": [
    {
     "data": {
      "text/plain": [
       "[['ABATTOIR', 'ABBATOIR'],\n",
       " ['ABHORRENCE', 'ABHORENCE'],\n",
       " ['ABILITY', 'ABILTY'],\n",
       " ['ABROAD', 'ABRAOD'],\n",
       " ['ABSENCE', 'ABSENSE'],\n",
       " ['ABSORBENT', 'ABSORBANT'],\n",
       " ['ABSORPTION', 'ABSORBTION'],\n",
       " ['ACADEMIC', 'ACEDEMIC'],\n",
       " ['ACCEDE', 'ACCEED'],\n",
       " ['ACCELERATE', 'ACELLERATE']]"
      ]
     },
     "execution_count": 7,
     "metadata": {},
     "output_type": "execute_result"
    }
   ],
   "source": [
    "birkbeck_data = sorted(birkbeck_data)\n",
    "birkbeck_data[:10]"
   ]
  },
  {
   "cell_type": "code",
   "execution_count": 8,
   "id": "20e6fe94",
   "metadata": {},
   "outputs": [],
   "source": [
    "incorrect_words = []\n",
    "correct_words = []\n",
    "for line in birkbeck_data:\n",
    "    correct_words.append(line[0])\n",
    "    incorrect_words.append(line[1])"
   ]
  },
  {
   "cell_type": "code",
   "execution_count": 9,
   "id": "4172a334",
   "metadata": {},
   "outputs": [
    {
     "name": "stdout",
     "output_type": "stream",
     "text": [
      "The first 10 correct words: ['ABATTOIR', 'ABHORRENCE', 'ABILITY', 'ABROAD', 'ABSENCE', 'ABSORBENT', 'ABSORPTION', 'ACADEMIC', 'ACCEDE', 'ACCELERATE']\n",
      "\n",
      "The first 10 incorrect words: ['ABBATOIR', 'ABHORENCE', 'ABILTY', 'ABRAOD', 'ABSENSE', 'ABSORBANT', 'ABSORBTION', 'ACEDEMIC', 'ACCEED', 'ACELLERATE']\n",
      "\n"
     ]
    }
   ],
   "source": [
    "print(\"The first 10 correct words:\", correct_words[:10])\n",
    "print()\n",
    "print(\"The first 10 incorrect words:\", incorrect_words[:10])\n",
    "print()"
   ]
  },
  {
   "cell_type": "code",
   "execution_count": 10,
   "id": "03d2fd77",
   "metadata": {},
   "outputs": [
    {
     "name": "stdout",
     "output_type": "stream",
     "text": [
      "The last 10 correct words: ['WORTH', 'WOULD', 'YACHT', 'YACHT', 'YEARNED', 'YEOMAN', 'YIELD', 'ZEALOUS', 'ZENITH']\n",
      "\n",
      "The last 10 incorrect words: ['WORHT', 'WOULS', 'YAHCT', 'YAHT', 'YERNED', 'YOMAN', 'YEILD', 'ZELOUS', 'ZEENITH']\n",
      "\n"
     ]
    }
   ],
   "source": [
    "print(\"The last 10 correct words:\", correct_words[-9:])\n",
    "print()\n",
    "print(\"The last 10 incorrect words:\", incorrect_words[-9:])\n",
    "print()"
   ]
  },
  {
   "cell_type": "code",
   "execution_count": 11,
   "id": "9780d644",
   "metadata": {},
   "outputs": [
    {
     "name": "stdout",
     "output_type": "stream",
     "text": [
      "Total number of incorrect words in Birbeck corpus =  1193\n"
     ]
    }
   ],
   "source": [
    "print(\"Total number of incorrect words in Birbeck corpus = \", len(correct_words))"
   ]
  },
  {
   "cell_type": "code",
   "execution_count": 12,
   "id": "a4add712",
   "metadata": {},
   "outputs": [
    {
     "name": "stdout",
     "output_type": "stream",
     "text": [
      "Total number of incorrect words in Birbeck corpus =  1193\n"
     ]
    }
   ],
   "source": [
    "print(\"Total number of incorrect words in Birbeck corpus = \", len(incorrect_words))"
   ]
  },
  {
   "cell_type": "code",
   "execution_count": 13,
   "id": "3055d080",
   "metadata": {},
   "outputs": [],
   "source": [
    "from min_edit_distance import med_function"
   ]
  },
  {
   "cell_type": "code",
   "execution_count": 14,
   "id": "ea5dc45d",
   "metadata": {},
   "outputs": [
    {
     "name": "stdout",
     "output_type": "stream",
     "text": [
      "The MED matrix between ABATTOIR and ABBATOIR is: \n",
      "[0, 1, 2, 3, 4, 5, 6, 7, 8]\n",
      "[1, 0, 1, 2, 3, 4, 5, 6, 7]\n",
      "[2, 1, 0, 1, 2, 3, 4, 5, 6]\n",
      "[3, 2, 1, 1, 1, 2, 3, 4, 5]\n",
      "[4, 3, 2, 2, 2, 1, 2, 3, 4]\n",
      "[5, 4, 3, 3, 3, 2, 2, 3, 4]\n",
      "[6, 5, 4, 4, 4, 3, 2, 3, 4]\n",
      "[7, 6, 5, 5, 5, 4, 3, 2, 3]\n",
      "[8, 7, 6, 6, 6, 5, 4, 3, 2]\n",
      "\n",
      "The MED between ABATTOIR and ABBATOIR is: \n",
      "2\n"
     ]
    }
   ],
   "source": [
    "print(med_function(\"ABATTOIR\", \"ABBATOIR\"))"
   ]
  }
 ],
 "metadata": {
  "kernelspec": {
   "display_name": "Python 3 (ipykernel)",
   "language": "python",
   "name": "python3"
  },
  "language_info": {
   "codemirror_mode": {
    "name": "ipython",
    "version": 3
   },
   "file_extension": ".py",
   "mimetype": "text/x-python",
   "name": "python",
   "nbconvert_exporter": "python",
   "pygments_lexer": "ipython3",
   "version": "3.9.13"
  }
 },
 "nbformat": 4,
 "nbformat_minor": 5
}
