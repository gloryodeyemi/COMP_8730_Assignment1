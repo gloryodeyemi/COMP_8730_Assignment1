{
 "cells": [
  {
   "cell_type": "markdown",
   "id": "176c978c",
   "metadata": {},
   "source": [
    "# Assignment 1\n",
    "\n",
    "### Glory Odeyemi\n",
    "\n",
    "#### 27-Jan-2023"
   ]
  },
  {
   "cell_type": "markdown",
   "id": "4052a59d",
   "metadata": {},
   "source": [
    "### Install libraries\n",
    "\n",
    "You can skip this step if you already have these libraries installed."
   ]
  },
  {
   "cell_type": "code",
   "execution_count": 1,
   "id": "4b3d6d9d",
   "metadata": {},
   "outputs": [
    {
     "name": "stdout",
     "output_type": "stream",
     "text": [
      "Requirement already satisfied: pytrec-eval-terrier in /Users/new/opt/anaconda3/lib/python3.9/site-packages (0.5.5)\n",
      "Requirement already satisfied: nltk in /Users/new/opt/anaconda3/lib/python3.9/site-packages (3.7)\n",
      "Requirement already satisfied: joblib in /Users/new/opt/anaconda3/lib/python3.9/site-packages (from nltk) (1.1.0)\n",
      "Requirement already satisfied: regex>=2021.8.3 in /Users/new/opt/anaconda3/lib/python3.9/site-packages (from nltk) (2022.7.9)\n",
      "Requirement already satisfied: tqdm in /Users/new/opt/anaconda3/lib/python3.9/site-packages (from nltk) (4.64.1)\n",
      "Requirement already satisfied: click in /Users/new/opt/anaconda3/lib/python3.9/site-packages (from nltk) (8.0.4)\n"
     ]
    }
   ],
   "source": [
    "!pip install pytrec-eval-terrier\n",
    "!pip install nltk"
   ]
  },
  {
   "cell_type": "markdown",
   "id": "c7a9ff28",
   "metadata": {},
   "source": [
    "### Import libraries\n",
    "\n",
    "This is an important step because some of the codes that depends on these libraries will give an error if the libraries are not imported."
   ]
  },
  {
   "cell_type": "code",
   "execution_count": 2,
   "id": "99b20af3",
   "metadata": {},
   "outputs": [],
   "source": [
    "import nltk\n",
    "import multiprocessing as mp\n",
    "import time\n",
    "import itertools\n",
    "from utils.k_success import top_k_words, success_at_k, average_k"
   ]
  },
  {
   "cell_type": "markdown",
   "id": "113e0641",
   "metadata": {},
   "source": [
    "### Download Wordnet\n",
    "\n",
    "Wordnet is the dictionary used for this project."
   ]
  },
  {
   "cell_type": "code",
   "execution_count": 3,
   "id": "642bd45c",
   "metadata": {},
   "outputs": [
    {
     "name": "stderr",
     "output_type": "stream",
     "text": [
      "[nltk_data] Downloading package wordnet to /Users/new/nltk_data...\n",
      "[nltk_data]   Package wordnet is already up-to-date!\n",
      "[nltk_data] Downloading package omw-1.4 to /Users/new/nltk_data...\n",
      "[nltk_data]   Package omw-1.4 is already up-to-date!\n"
     ]
    },
    {
     "data": {
      "text/plain": [
       "True"
      ]
     },
     "execution_count": 3,
     "metadata": {},
     "output_type": "execute_result"
    }
   ],
   "source": [
    "nltk.download('wordnet')\n",
    "nltk.download('omw-1.4')"
   ]
  },
  {
   "cell_type": "code",
   "execution_count": 4,
   "id": "eab7b9f7",
   "metadata": {},
   "outputs": [
    {
     "name": "stdout",
     "output_type": "stream",
     "text": [
      "Total number of words in Wordnet =  147306\n"
     ]
    }
   ],
   "source": [
    "from nltk.corpus import wordnet as wn\n",
    "print(\"Total number of words in Wordnet = \", len(list(wn.words())))"
   ]
  },
  {
   "cell_type": "markdown",
   "id": "bef5aa0f",
   "metadata": {},
   "source": [
    "### Import Birkbeck corpus\n",
    "\n",
    "Birkbeck spelling error corpus was used for this project. You can find it [here](https://ota.bodleian.ox.ac.uk/repository/xmlui/handle/20.500.12024/0643).\n",
    "\n",
    "Two files, [SHEFFIELDDAT.643](https://github.com/gloryodeyemi/COMP_8730_Assignment1/blob/main/Data/SHEFFIELDDAT.643) and [FAWTHROP1DAT.643](https://github.com/gloryodeyemi/COMP_8730_Assignment1/blob/main/Data/FAWTHROP1DAT.643), out of the Birkbeck spelling error corpus by Roger Mitton was used."
   ]
  },
  {
   "cell_type": "code",
   "execution_count": 5,
   "id": "1b45d31d",
   "metadata": {},
   "outputs": [],
   "source": [
    "birkbeck_data = []\n",
    "with open('Data/FAWTHROP1DAT.643', 'r') as file_data1:\n",
    "    for line in file_data1:\n",
    "        data = line.split()\n",
    "        birkbeck_data.append(data)\n",
    "    \n",
    "with open('Data/SHEFFIELDDAT.643', 'r') as file_data2:\n",
    "    for line in file_data2:\n",
    "        data = line.split()\n",
    "        birkbeck_data.append(data)"
   ]
  },
  {
   "cell_type": "code",
   "execution_count": 6,
   "id": "eaa67528",
   "metadata": {},
   "outputs": [
    {
     "data": {
      "text/plain": [
       "[['ABATTOIR', 'ABBATOIR'],\n",
       " ['ABHORRENCE', 'ABHORENCE'],\n",
       " ['ABILITY', 'ABILTY'],\n",
       " ['ABROAD', 'ABRAOD'],\n",
       " ['ABSENCE', 'ABSENSE'],\n",
       " ['ABSORBENT', 'ABSORBANT'],\n",
       " ['ABSORPTION', 'ABSORBTION'],\n",
       " ['ACADEMIC', 'ACEDEMIC'],\n",
       " ['ACCEDE', 'ACCEED'],\n",
       " ['ACCELERATE', 'ACELLERATE']]"
      ]
     },
     "execution_count": 6,
     "metadata": {},
     "output_type": "execute_result"
    }
   ],
   "source": [
    "birkbeck_data = sorted(birkbeck_data)\n",
    "birkbeck_data[:10]"
   ]
  },
  {
   "cell_type": "code",
   "execution_count": 7,
   "id": "b08786c2",
   "metadata": {},
   "outputs": [
    {
     "name": "stdout",
     "output_type": "stream",
     "text": [
      "Total number of words in Birbeck corpus =  1193\n"
     ]
    }
   ],
   "source": [
    "print(\"Total number of words in Birbeck corpus = \", len(birkbeck_data))"
   ]
  },
  {
   "cell_type": "markdown",
   "id": "8a05e5f3",
   "metadata": {},
   "source": [
    "### Getting the top k words\n",
    "\n",
    "* Top-k words are the top most similar or least distant list of words that are retrieved by the Minimum Edit Distance (MED) from the Wordnet dictionary.\n",
    "* For every incorrect word in the birkbeck_data corpus, top-k words are returned, where k={1,5,10}."
   ]
  },
  {
   "cell_type": "markdown",
   "id": "c7e02438",
   "metadata": {},
   "source": [
    "#### Parallelization\n",
    "According to [this article](https://python.plainenglish.io/parallelization-in-python-e5ac80b32b22), \"Parallelization in Python enables the developer to run several parts of a program at the same time. It is intended to decrease the complete processing time. The multiprocessing module is used to run free parallel processes.\"\n",
    "\n",
    "**Sample test:** The first 10 items in the birkbeck corpus will be used to test the parallelization.\n",
    "\n",
    "\n",
    "* Without parallelization\n"
   ]
  },
  {
   "cell_type": "code",
   "execution_count": 8,
   "id": "1b3dd9a0",
   "metadata": {
    "scrolled": true
   },
   "outputs": [
    {
     "name": "stdout",
     "output_type": "stream",
     "text": [
      "--- Without parallelization: 27.829862117767334 seconds ---\n"
     ]
    }
   ],
   "source": [
    "start_time = time.time()\n",
    "top_k_result = []\n",
    "for data_row in birkbeck_data[:10]:\n",
    "    top_k_result.append(top_k_words(data_row))\n",
    "    \n",
    "print(\"--- Without parallelization: %s seconds ---\" % (time.time() - start_time))"
   ]
  },
  {
   "cell_type": "markdown",
   "id": "a854a179",
   "metadata": {},
   "source": [
    "* With parallelization"
   ]
  },
  {
   "cell_type": "code",
   "execution_count": 9,
   "id": "28b8964d",
   "metadata": {},
   "outputs": [
    {
     "name": "stdout",
     "output_type": "stream",
     "text": [
      "--- With parallelization: 7.09723687171936 seconds ---\n"
     ]
    }
   ],
   "source": [
    "pool = mp.Pool()\n",
    "start_time = time.time()\n",
    "top_k_result = []\n",
    "top_k_result.append(pool.map(top_k_words, birkbeck_data[:10]))\n",
    "    \n",
    "print(\"--- With parallelization: %s seconds ---\" % (time.time() - start_time))"
   ]
  },
  {
   "cell_type": "markdown",
   "id": "cc05ea83",
   "metadata": {},
   "source": [
    "**Getting the top k-words for all incorrect token in the birkbeck corpus.**"
   ]
  },
  {
   "cell_type": "code",
   "execution_count": 10,
   "id": "3aa9bece",
   "metadata": {},
   "outputs": [
    {
     "data": {
      "text/plain": [
       "[{'correct_word': 'yearned',\n",
       "  'incorrect_word': 'yerned',\n",
       "  'top_1': ['ferned'],\n",
       "  'top_5': ['ferned', 'burned', 'corned', 'darned', 'earned'],\n",
       "  'top_10': ['ferned',\n",
       "   'burned',\n",
       "   'corned',\n",
       "   'darned',\n",
       "   'earned',\n",
       "   'horned',\n",
       "   'learned',\n",
       "   'merged',\n",
       "   'permed',\n",
       "   'turned']},\n",
       " {'correct_word': 'yeoman',\n",
       "  'incorrect_word': 'yoman',\n",
       "  'top_1': ['roman'],\n",
       "  'top_5': ['roman', 'yuman', 'oman', 'soman', 'woman'],\n",
       "  'top_10': ['roman',\n",
       "   'yuman',\n",
       "   'oman',\n",
       "   'soman',\n",
       "   'woman',\n",
       "   'yeoman',\n",
       "   'comal',\n",
       "   'human',\n",
       "   'norman',\n",
       "   'omani']},\n",
       " {'correct_word': 'yield',\n",
       "  'incorrect_word': 'yeild',\n",
       "  'top_1': ['held'],\n",
       "  'top_5': ['held', 'mild', 'veiled', 'weird', 'wild'],\n",
       "  'top_10': ['held',\n",
       "   'mild',\n",
       "   'veiled',\n",
       "   'weird',\n",
       "   'wild',\n",
       "   'yelled',\n",
       "   'build',\n",
       "   'child',\n",
       "   'eld',\n",
       "   'gild']},\n",
       " {'correct_word': 'zealous',\n",
       "  'incorrect_word': 'zelous',\n",
       "  'top_1': ['zealous'],\n",
       "  'top_5': ['zealous', 'cerous', 'jealous', 'pilous', 'serous'],\n",
       "  'top_10': ['zealous',\n",
       "   'cerous',\n",
       "   'jealous',\n",
       "   'pilous',\n",
       "   'serous',\n",
       "   'venous',\n",
       "   'delius',\n",
       "   'elops',\n",
       "   'peleus',\n",
       "   'tellus']},\n",
       " {'correct_word': 'zenith',\n",
       "  'incorrect_word': 'zeenith',\n",
       "  'top_1': ['zenith'],\n",
       "  'top_5': ['zenith', 'greenish', 'peevish', 'rhenish', 'seventh'],\n",
       "  'top_10': ['zenith',\n",
       "   'greenish',\n",
       "   'peevish',\n",
       "   'rhenish',\n",
       "   'seventh',\n",
       "   'tenth',\n",
       "   'zenithal',\n",
       "   'zeroth',\n",
       "   'herewith',\n",
       "   'amenity']}]"
      ]
     },
     "execution_count": 10,
     "metadata": {},
     "output_type": "execute_result"
    }
   ],
   "source": [
    "top_k_result = []\n",
    "start_time = time.time()\n",
    "top_k_result.append(pool.map(top_k_words, birkbeck_data))\n",
    "\n",
    "top_k_result[0][-5:]"
   ]
  },
  {
   "cell_type": "markdown",
   "id": "6b29899b",
   "metadata": {},
   "source": [
    "### Getting the success at k\n",
    "\n",
    "Success at k (s@k) measures whether the correct spell of the token happens to be in the top-k (where k={1,5,10}) list of tokens. "
   ]
  },
  {
   "cell_type": "code",
   "execution_count": 11,
   "id": "e34cef6b",
   "metadata": {},
   "outputs": [
    {
     "data": {
      "text/plain": [
       "{'zeenith': {'success_at_1': 1, 'success_at_5': 1, 'success_at_10': 1},\n",
       " 'zelous': {'success_at_1': 1, 'success_at_5': 1, 'success_at_10': 1},\n",
       " 'yeild': {'success_at_1': 0, 'success_at_5': 0, 'success_at_10': 0},\n",
       " 'yoman': {'success_at_1': 0, 'success_at_5': 0, 'success_at_10': 1},\n",
       " 'yerned': {'success_at_1': 0, 'success_at_5': 0, 'success_at_10': 0}}"
      ]
     },
     "execution_count": 11,
     "metadata": {},
     "output_type": "execute_result"
    }
   ],
   "source": [
    "success = success_at_k(top_k_result[0])\n",
    "dict(itertools.islice(reversed(success.items()), 5))"
   ]
  },
  {
   "cell_type": "markdown",
   "id": "4fd464d5",
   "metadata": {},
   "source": [
    "### Getting the average success at k"
   ]
  },
  {
   "cell_type": "code",
   "execution_count": 12,
   "id": "d8a9eb6a",
   "metadata": {
    "scrolled": true
   },
   "outputs": [
    {
     "name": "stdout",
     "output_type": "stream",
     "text": [
      "success_at_1 average: 0.611864406779661\n",
      "success_at_5 average: 0.7974576271186441\n",
      "success_at_10 average: 0.8169491525423729\n"
     ]
    }
   ],
   "source": [
    "average_k(success)"
   ]
  }
 ],
 "metadata": {
  "kernelspec": {
   "display_name": "Python 3 (ipykernel)",
   "language": "python",
   "name": "python3"
  },
  "language_info": {
   "codemirror_mode": {
    "name": "ipython",
    "version": 3
   },
   "file_extension": ".py",
   "mimetype": "text/x-python",
   "name": "python",
   "nbconvert_exporter": "python",
   "pygments_lexer": "ipython3",
   "version": "3.9.13"
  }
 },
 "nbformat": 4,
 "nbformat_minor": 5
}
