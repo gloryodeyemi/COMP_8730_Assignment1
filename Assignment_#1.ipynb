{
 "cells": [
  {
   "cell_type": "markdown",
   "id": "c6591a7c",
   "metadata": {},
   "source": [
    "# Assignment 1\n",
    "\n",
    "### Glory Odeyemi\n",
    "\n",
    "#### 27-Jan-2023"
   ]
  },
  {
   "cell_type": "markdown",
   "id": "b63e6597",
   "metadata": {},
   "source": [
    "### Install libraries\n",
    "\n",
    "You can skip this step if you already have these libraries installed."
   ]
  },
  {
   "cell_type": "code",
   "execution_count": 1,
   "id": "4b3d6d9d",
   "metadata": {},
   "outputs": [
    {
     "name": "stdout",
     "output_type": "stream",
     "text": [
      "Requirement already satisfied: pytrec-eval-terrier in /Users/new/opt/anaconda3/lib/python3.9/site-packages (0.5.5)\n",
      "Requirement already satisfied: nltk in /Users/new/opt/anaconda3/lib/python3.9/site-packages (3.7)\n",
      "Requirement already satisfied: joblib in /Users/new/opt/anaconda3/lib/python3.9/site-packages (from nltk) (1.1.0)\n",
      "Requirement already satisfied: regex>=2021.8.3 in /Users/new/opt/anaconda3/lib/python3.9/site-packages (from nltk) (2022.7.9)\n",
      "Requirement already satisfied: tqdm in /Users/new/opt/anaconda3/lib/python3.9/site-packages (from nltk) (4.64.1)\n",
      "Requirement already satisfied: click in /Users/new/opt/anaconda3/lib/python3.9/site-packages (from nltk) (8.0.4)\n"
     ]
    }
   ],
   "source": [
    "!pip install pytrec-eval-terrier\n",
    "!pip install nltk"
   ]
  },
  {
   "cell_type": "markdown",
   "id": "ebbefc4f",
   "metadata": {},
   "source": [
    "### Import libraries\n",
    "\n",
    "This is an important step because some of the codes that depends on these libraries will give an error if the libraries are not imported."
   ]
  },
  {
   "cell_type": "code",
   "execution_count": 2,
   "id": "99b20af3",
   "metadata": {},
   "outputs": [],
   "source": [
    "import nltk\n",
    "from k_success import top_k_words"
   ]
  },
  {
   "cell_type": "markdown",
   "id": "29294a67",
   "metadata": {},
   "source": [
    "### Download Wordnet\n",
    "\n",
    "Wordnet is the dictionary used for this project."
   ]
  },
  {
   "cell_type": "code",
   "execution_count": 3,
   "id": "642bd45c",
   "metadata": {},
   "outputs": [
    {
     "name": "stderr",
     "output_type": "stream",
     "text": [
      "[nltk_data] Downloading package wordnet to /Users/new/nltk_data...\n",
      "[nltk_data]   Package wordnet is already up-to-date!\n",
      "[nltk_data] Downloading package omw-1.4 to /Users/new/nltk_data...\n",
      "[nltk_data]   Package omw-1.4 is already up-to-date!\n"
     ]
    },
    {
     "data": {
      "text/plain": [
       "True"
      ]
     },
     "execution_count": 3,
     "metadata": {},
     "output_type": "execute_result"
    }
   ],
   "source": [
    "nltk.download('wordnet')\n",
    "nltk.download('omw-1.4')"
   ]
  },
  {
   "cell_type": "code",
   "execution_count": 4,
   "id": "eab7b9f7",
   "metadata": {},
   "outputs": [
    {
     "name": "stdout",
     "output_type": "stream",
     "text": [
      "Total number of words in Wordnet =  147306\n"
     ]
    }
   ],
   "source": [
    "from nltk.corpus import wordnet as wn\n",
    "print(\"Total number of words in Wordnet = \", len(list(wn.words())))"
   ]
  },
  {
   "cell_type": "markdown",
   "id": "e18a5bb0",
   "metadata": {},
   "source": [
    "### Import Birkbeck corpus\n",
    "\n",
    "Birkbeck spelling error corpus was used for this project. You can find it [here](https://ota.bodleian.ox.ac.uk/repository/xmlui/handle/20.500.12024/0643).\n",
    "\n",
    "Two files, [SHEFFIELDDAT.643](https://github.com/gloryodeyemi/COMP_8730_Assignment1/blob/main/Data/SHEFFIELDDAT.643) and [FAWTHROP1DAT.643](https://github.com/gloryodeyemi/COMP_8730_Assignment1/blob/main/Data/FAWTHROP1DAT.643), out of the Birkbeck spelling error corpus by Roger Mitton was used."
   ]
  },
  {
   "cell_type": "code",
   "execution_count": 5,
   "id": "1b45d31d",
   "metadata": {},
   "outputs": [],
   "source": [
    "birkbeck_data = []\n",
    "with open('Data/FAWTHROP1DAT.643', 'r') as file_data1:\n",
    "    for line in file_data1:\n",
    "        data = line.split()\n",
    "        birkbeck_data.append(data)\n",
    "    \n",
    "with open('Data/SHEFFIELDDAT.643', 'r') as file_data2:\n",
    "    for line in file_data2:\n",
    "        data = line.split()\n",
    "        birkbeck_data.append(data)"
   ]
  },
  {
   "cell_type": "code",
   "execution_count": 6,
   "id": "eaa67528",
   "metadata": {},
   "outputs": [
    {
     "data": {
      "text/plain": [
       "[['ABATTOIR', 'ABBATOIR'],\n",
       " ['ABHORRENCE', 'ABHORENCE'],\n",
       " ['ABILITY', 'ABILTY'],\n",
       " ['ABROAD', 'ABRAOD'],\n",
       " ['ABSENCE', 'ABSENSE'],\n",
       " ['ABSORBENT', 'ABSORBANT'],\n",
       " ['ABSORPTION', 'ABSORBTION'],\n",
       " ['ACADEMIC', 'ACEDEMIC'],\n",
       " ['ACCEDE', 'ACCEED'],\n",
       " ['ACCELERATE', 'ACELLERATE']]"
      ]
     },
     "execution_count": 6,
     "metadata": {},
     "output_type": "execute_result"
    }
   ],
   "source": [
    "birkbeck_data = sorted(birkbeck_data)\n",
    "birkbeck_data[:10]"
   ]
  },
  {
   "cell_type": "code",
   "execution_count": 7,
   "id": "17fe4f9b",
   "metadata": {},
   "outputs": [
    {
     "name": "stdout",
     "output_type": "stream",
     "text": [
      "Total number of words in Birbeck corpus =  1193\n"
     ]
    }
   ],
   "source": [
    "print(\"Total number of words in Birbeck corpus = \", len(birkbeck_data))"
   ]
  },
  {
   "cell_type": "markdown",
   "id": "4212cc49",
   "metadata": {},
   "source": [
    "#### Store the incorrect and correct words in the birkbeck data in separate lists."
   ]
  },
  {
   "cell_type": "code",
   "execution_count": 8,
   "id": "20e6fe94",
   "metadata": {},
   "outputs": [],
   "source": [
    "incorrect_words = []\n",
    "correct_words = []\n",
    "for line in birkbeck_data:\n",
    "    correct_words.append(line[0])\n",
    "    incorrect_words.append(line[1])"
   ]
  },
  {
   "cell_type": "code",
   "execution_count": 9,
   "id": "4172a334",
   "metadata": {},
   "outputs": [
    {
     "name": "stdout",
     "output_type": "stream",
     "text": [
      "The first 10 correct words: ['ABATTOIR', 'ABHORRENCE', 'ABILITY', 'ABROAD', 'ABSENCE', 'ABSORBENT', 'ABSORPTION', 'ACADEMIC', 'ACCEDE', 'ACCELERATE']\n",
      "\n",
      "The first 10 incorrect words: ['ABBATOIR', 'ABHORENCE', 'ABILTY', 'ABRAOD', 'ABSENSE', 'ABSORBANT', 'ABSORBTION', 'ACEDEMIC', 'ACCEED', 'ACELLERATE']\n",
      "\n"
     ]
    }
   ],
   "source": [
    "print(\"The first 10 correct words:\", correct_words[:10])\n",
    "print()\n",
    "print(\"The first 10 incorrect words:\", incorrect_words[:10])\n",
    "print()"
   ]
  },
  {
   "cell_type": "code",
   "execution_count": 10,
   "id": "03d2fd77",
   "metadata": {},
   "outputs": [
    {
     "name": "stdout",
     "output_type": "stream",
     "text": [
      "The last 10 correct words: ['WORTH', 'WOULD', 'YACHT', 'YACHT', 'YEARNED', 'YEOMAN', 'YIELD', 'ZEALOUS', 'ZENITH']\n",
      "\n",
      "The last 10 incorrect words: ['WORHT', 'WOULS', 'YAHCT', 'YAHT', 'YERNED', 'YOMAN', 'YEILD', 'ZELOUS', 'ZEENITH']\n",
      "\n"
     ]
    }
   ],
   "source": [
    "print(\"The last 10 correct words:\", correct_words[-9:])\n",
    "print()\n",
    "print(\"The last 10 incorrect words:\", incorrect_words[-9:])\n",
    "print()"
   ]
  },
  {
   "cell_type": "code",
   "execution_count": 11,
   "id": "9780d644",
   "metadata": {},
   "outputs": [
    {
     "name": "stdout",
     "output_type": "stream",
     "text": [
      "Total number of incorrect words in Birbeck corpus =  1193\n"
     ]
    }
   ],
   "source": [
    "print(\"Total number of incorrect words in Birbeck corpus = \", len(correct_words))"
   ]
  },
  {
   "cell_type": "code",
   "execution_count": 12,
   "id": "a4add712",
   "metadata": {},
   "outputs": [
    {
     "name": "stdout",
     "output_type": "stream",
     "text": [
      "Total number of incorrect words in Birbeck corpus =  1193\n"
     ]
    }
   ],
   "source": [
    "print(\"Total number of incorrect words in Birbeck corpus = \", len(incorrect_words))"
   ]
  },
  {
   "cell_type": "markdown",
   "id": "b067fbb1",
   "metadata": {},
   "source": [
    "### Getting the top k words\n",
    "\n",
    "* Top-k words are the top most similar or least distant list of words that are retrieved by the Minimum Edit Distance (MED) from the Wordnet dictionary.\n",
    "* For every incorrect word in the birkbeck_data corpus, top-k words are returned, where k={1,5,10}."
   ]
  },
  {
   "cell_type": "code",
   "execution_count": 13,
   "id": "f40da4a7",
   "metadata": {},
   "outputs": [
    {
     "data": {
      "text/plain": [
       "[{'correct_word': 'abattoir',\n",
       "  'incorrect_word': 'abbatoir',\n",
       "  'top 1': ['abator'],\n",
       "  'top 5': ['abator', 'abattoir', 'abatic', 'abbatial', 'sabbatic'],\n",
       "  'top 10': ['abator',\n",
       "   'abattoir',\n",
       "   'abatic',\n",
       "   'abbatial',\n",
       "   'sabbatic',\n",
       "   'abatis',\n",
       "   'abattis',\n",
       "   'abettor',\n",
       "   'aerator',\n",
       "   'aviator']},\n",
       " {'correct_word': 'abhorrence',\n",
       "  'incorrect_word': 'abhorence',\n",
       "  'top 1': ['abhorrence'],\n",
       "  'top 5': ['abhorrence', 'adherence', 'abhorrent', 'aberrance', 'abience'],\n",
       "  'top 10': ['abhorrence',\n",
       "   'adherence',\n",
       "   'abhorrent',\n",
       "   'aberrance',\n",
       "   'abience',\n",
       "   'absence',\n",
       "   'absorbance',\n",
       "   'absorbency',\n",
       "   'coherence',\n",
       "   'florence']},\n",
       " {'correct_word': 'ability',\n",
       "  'incorrect_word': 'abilty',\n",
       "  'top 1': ['ability'],\n",
       "  'top 5': ['ability', 'atilt', 'bilgy', 'bitty', 'guilty'],\n",
       "  'top 10': ['ability',\n",
       "   'atilt',\n",
       "   'bilgy',\n",
       "   'bitty',\n",
       "   'guilty',\n",
       "   'silty',\n",
       "   'ably',\n",
       "   'abila',\n",
       "   'agility',\n",
       "   'ailey']}]"
      ]
     },
     "execution_count": 13,
     "metadata": {},
     "output_type": "execute_result"
    }
   ],
   "source": [
    "result = []\n",
    "for data_row in birkbeck_data[:3]:\n",
    "    result.append(top_k_words(data_row))\n",
    "    \n",
    "result"
   ]
  }
 ],
 "metadata": {
  "kernelspec": {
   "display_name": "Python 3 (ipykernel)",
   "language": "python",
   "name": "python3"
  },
  "language_info": {
   "codemirror_mode": {
    "name": "ipython",
    "version": 3
   },
   "file_extension": ".py",
   "mimetype": "text/x-python",
   "name": "python",
   "nbconvert_exporter": "python",
   "pygments_lexer": "ipython3",
   "version": "3.9.13"
  }
 },
 "nbformat": 4,
 "nbformat_minor": 5
}
